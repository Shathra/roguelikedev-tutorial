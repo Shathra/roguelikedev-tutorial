{
 "cells": [
  {
   "cell_type": "code",
   "execution_count": 4,
   "metadata": {
    "colab": {
     "autoexec": {
      "startup": false,
      "wait_interval": 0
     }
    },
    "colab_type": "code",
    "id": "qd39oMoptzTX"
   },
   "outputs": [],
   "source": [
    "import math\n",
    "import random\n",
    "\n",
    "import numpy as np\n",
    "import matplotlib.pyplot as plt\n",
    "from matplotlib.colors import ListedColormap\n",
    "\n",
    "%matplotlib inline\n",
    "\n",
    "plt.rcParams[\"figure.figsize\"] = 8, 8\n",
    "cmap = ListedColormap([\"k\", \"w\"])\n",
    "\n",
    "def show(A):\n",
    "  plt.matshow(A, cmap=cmap)\n",
    "  plt.axis(\"off\")\n",
    "  plt.show()"
   ]
  },
  {
   "cell_type": "code",
   "execution_count": 19,
   "metadata": {
    "colab": {
     "autoexec": {
      "startup": false,
      "wait_interval": 0
     }
    },
    "colab_type": "code",
    "id": "nD7-hirUuJMB"
   },
   "outputs": [],
   "source": [
    "def check_intersect(rect1, rect2): # rect is 4-tuple (x1, x2, y1, y2)\n",
    "  \n",
    "  x_intersect = (rect1[0] <= rect2[0] and rect1[1] >= rect2[0]) or \\\n",
    "    (rect2[0] <= rect1[0] and rect2[1] >= rect1[0])\n",
    "  \n",
    "  y_intersect = (rect1[2] <= rect2[2] and rect1[3] >= rect2[2]) or \\\n",
    "    (rect2[2] <= rect1[2] and rect2[3] >= rect1[2])\n",
    "  \n",
    "  return x_intersect and y_intersect\n",
    "\n",
    "def make_map(width, height):\n",
    "  \n",
    "  game_map = [[0 for x in range(width)] for y in range(height)]\n",
    "  room_lst = []\n",
    "  \n",
    "  def make_rooms(width_interval, height_interval, attempt):\n",
    "    for i in range(attempt):\n",
    "      # Generate a new room\n",
    "      room_width = random.randint(*width_interval)\n",
    "      room_height = random.randint(*height_interval)\n",
    "      x = random.randint(0, width - room_width)\n",
    "      y = random.randint(0, height - room_height)\n",
    "      new_room = (x, x + room_width - 1, y, y + room_height - 1)\n",
    "      \n",
    "      # Check if it intersects with other rooms\n",
    "      for room in room_lst:\n",
    "        if check_intersect(new_room, room):\n",
    "          break\n",
    "      else:\n",
    "        room_lst.append(new_room)\n",
    "          \n",
    "      # Carve rooms\n",
    "      for room in room_lst:\n",
    "        for y in range(room[2] + 1, room[3]):\n",
    "          for x in range(room[0] + 1, room[1]):\n",
    "            game_map[y][x] = 1\n",
    "            \n",
    "  def connect_rooms():\n",
    "\n",
    "    def manhattan_distance(room1, room2):\n",
    "      center1 = ((room1[0] + room1[1]) // 2, (room1[2] + room1[3]) // 2)\n",
    "      center2 = ((room2[0] + room2[1]) // 2, (room2[2] + room2[3]) // 2)\n",
    "\n",
    "      return abs(center1[0] - center2[0]) + abs(center1[1] - center2[1])\n",
    "\n",
    "    def connect_room(room1, room2):\n",
    "      center1 = ((room1[0] + room1[1]) // 2, (room1[2] + room1[3]) // 2)\n",
    "      center2 = ((room2[0] + room2[1]) // 2, (room2[2] + room2[3]) // 2)\n",
    "\n",
    "      for i in range(min(center1[0], center2[0]), max(center1[0], center2[0]) + 1):\n",
    "        game_map[center1[1]][i] = 1\n",
    "      for i in range(min(center1[1], center2[1]), max(center1[1], center2[1]) + 1):\n",
    "        game_map[i][center2[0]] = 1\n",
    "\n",
    "    # Prim algorithm to connect all rooms\n",
    "    D = [[manhattan_distance(room1, room2) for room2 in room_lst] for room1 in room_lst]\n",
    "\n",
    "    Q = list(range(1, len(room_lst)))\n",
    "    F = [0]\n",
    "\n",
    "    edge_lst = []\n",
    "    for i in Q:\n",
    "      edge_lst.append((0, i))\n",
    "\n",
    "    while Q:\n",
    "      min_edge = None\n",
    "      min_value = float(\"inf\")\n",
    "      for edge in edge_lst:\n",
    "        source_index = edge[0]\n",
    "        destination_index = edge[1]\n",
    "        distance = D[source_index][destination_index]\n",
    "\n",
    "        if distance < min_value:\n",
    "          min_value = distance\n",
    "          min_edge = edge\n",
    "\n",
    "      connect_room(room_lst[min_edge[0]], room_lst[min_edge[1]])\n",
    "\n",
    "      index = min_edge[1]\n",
    "      for node in F:\n",
    "        edge_lst.remove((node, index))\n",
    "\n",
    "      F.append(index)\n",
    "      Q.remove(index)\n",
    "      for node in Q:\n",
    "        edge_lst.append((index, node))\n",
    "    \n",
    "  make_rooms((8, 12), (8, 12), 100)\n",
    "  connect_rooms()\n",
    "\n",
    "  return game_map"
   ]
  },
  {
   "cell_type": "code",
   "execution_count": 25,
   "metadata": {
    "colab": {
     "autoexec": {
      "startup": false,
      "wait_interval": 0
     },
     "base_uri": "https://localhost:8080/",
     "height": 494
    },
    "colab_type": "code",
    "executionInfo": {
     "elapsed": 654,
     "status": "ok",
     "timestamp": 1530279644684,
     "user": {
      "displayName": "Selçuk Gülcan",
      "photoUrl": "https://lh3.googleusercontent.com/a/default-user=s128",
      "userId": "107798684793337933935"
     },
     "user_tz": -180
    },
    "id": "GnnuxbbLxWH3",
    "outputId": "908d6e25-431b-4bb3-cad5-a5741c0c20f3"
   },
   "outputs": [
    {
     "data": {
      "image/png": "[encoded data removed]",
      "text/plain": [
       "<Figure size 576x576 with 1 Axes>"
      ]
     },
     "metadata": {},
     "output_type": "display_data"
    }
   ],
   "source": [
    "A = make_map(100, 100)\n",
    "show(A)"
   ]
  }
 ],
 "metadata": {
  "colab": {
   "collapsed_sections": [],
   "default_view": {},
   "name": "dungeon_prim.ipynb",
   "provenance": [],
   "version": "0.3.2",
   "views": {}
  },
  "kernelspec": {
   "display_name": "Python 3",
   "language": "python",
   "name": "python3"
  },
  "language_info": {
   "codemirror_mode": {
    "name": "ipython",
    "version": 3
   },
   "file_extension": ".py",
   "mimetype": "text/x-python",
   "name": "python",
   "nbconvert_exporter": "python",
   "pygments_lexer": "ipython3",
   "version": "3.6.5"
  }
 },
 "nbformat": 4,
 "nbformat_minor": 1
}
